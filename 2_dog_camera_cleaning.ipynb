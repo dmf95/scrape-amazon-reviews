{
 "metadata": {
  "language_info": {
   "codemirror_mode": {
    "name": "ipython",
    "version": 3
   },
   "file_extension": ".py",
   "mimetype": "text/x-python",
   "name": "python",
   "nbconvert_exporter": "python",
   "pygments_lexer": "ipython3",
   "version": "3.9.1"
  },
  "orig_nbformat": 2,
  "kernelspec": {
   "name": "python391jvsc74a57bd007a70a5077e9c9feae5d08fa41fc44d95abc22f10394969018e5e0f4ca96aa5b",
   "display_name": "Python 3.9.1 64-bit"
  }
 },
 "nbformat": 4,
 "nbformat_minor": 2,
 "cells": [
  {
   "source": [
    "## Data cleaning goals\n",
    "* Exploration of amazon review data\n",
    "* Data cleaning and pre-processing for text analytics & sentiment analysis\n",
    "* credit: https://github.com/EnesGokceDS/Amazon_Reviews_NLP_Capstone_Project/blob/master/1_Data_cleaning_and_feature_extraction.ipynb"
   ],
   "cell_type": "markdown",
   "metadata": {}
  },
  {
   "source": [
    "## Part 1: Load data\n",
    "* Load libraries\n",
    "* Load data\n",
    "* Quick exploration of data"
   ],
   "cell_type": "markdown",
   "metadata": {}
  },
  {
   "cell_type": "code",
   "execution_count": 11,
   "metadata": {},
   "outputs": [
    {
     "output_type": "stream",
     "name": "stderr",
     "text": [
      "[nltk_data] Downloading package wordnet to\n[nltk_data]     C:\\Users\\domen\\AppData\\Roaming\\nltk_data...\n[nltk_data]   Package wordnet is already up-to-date!\n"
     ]
    },
    {
     "output_type": "execute_result",
     "data": {
      "text/plain": [
       "True"
      ]
     },
     "metadata": {},
     "execution_count": 11
    }
   ],
   "source": [
    "# Import libraries\n",
    "import pandas as pd\n",
    "import nltk as n\n",
    "from textblob import TextBlob\n",
    "\n",
    "n.download('wordnet')"
   ]
  },
  {
   "cell_type": "code",
   "execution_count": 18,
   "metadata": {},
   "outputs": [
    {
     "output_type": "execute_result",
     "data": {
      "text/plain": [
       "                                             product  \\\n",
       "0  Furbo Dog Camera: Treat Tossing, Full HD WiFi ...   \n",
       "1  Furbo Dog Camera: Treat Tossing, Full HD WiFi ...   \n",
       "2  Furbo Dog Camera: Treat Tossing, Full HD WiFi ...   \n",
       "\n",
       "                                      date                             title  \\\n",
       "0  Reviewed in Canada on December 14, 2018                  Glorified Webcam   \n",
       "1    Reviewed in Canada on August 15, 2018               Recieved Used Item!   \n",
       "2       Reviewed in Canada on May 26, 2018  Furbo made miracle happen for me   \n",
       "\n",
       "   rating                                               body  \n",
       "0     2.0  I bought the Furbo as a birthday gift for my b...  \n",
       "1     1.0  Extremely disappointed. I recieved a Furbo tha...  \n",
       "2     5.0  I’ve been using furbo for 2.5 weeks now. It ha...  "
      ],
      "text/html": "<div>\n<style scoped>\n    .dataframe tbody tr th:only-of-type {\n        vertical-align: middle;\n    }\n\n    .dataframe tbody tr th {\n        vertical-align: top;\n    }\n\n    .dataframe thead th {\n        text-align: right;\n    }\n</style>\n<table border=\"1\" class=\"dataframe\">\n  <thead>\n    <tr style=\"text-align: right;\">\n      <th></th>\n      <th>product</th>\n      <th>date</th>\n      <th>title</th>\n      <th>rating</th>\n      <th>body</th>\n    </tr>\n  </thead>\n  <tbody>\n    <tr>\n      <th>0</th>\n      <td>Furbo Dog Camera: Treat Tossing, Full HD WiFi ...</td>\n      <td>Reviewed in Canada on December 14, 2018</td>\n      <td>Glorified Webcam</td>\n      <td>2.0</td>\n      <td>I bought the Furbo as a birthday gift for my b...</td>\n    </tr>\n    <tr>\n      <th>1</th>\n      <td>Furbo Dog Camera: Treat Tossing, Full HD WiFi ...</td>\n      <td>Reviewed in Canada on August 15, 2018</td>\n      <td>Recieved Used Item!</td>\n      <td>1.0</td>\n      <td>Extremely disappointed. I recieved a Furbo tha...</td>\n    </tr>\n    <tr>\n      <th>2</th>\n      <td>Furbo Dog Camera: Treat Tossing, Full HD WiFi ...</td>\n      <td>Reviewed in Canada on May 26, 2018</td>\n      <td>Furbo made miracle happen for me</td>\n      <td>5.0</td>\n      <td>I’ve been using furbo for 2.5 weeks now. It ha...</td>\n    </tr>\n  </tbody>\n</table>\n</div>"
     },
     "metadata": {},
     "execution_count": 18
    }
   ],
   "source": [
    "# Get the amazon reviews data, store as pandas df\n",
    "df = pd.read_csv(\"dog-cameras-raw.csv\")\n",
    "df = pd.DataFrame(df)\n",
    "df.head(3) # show first row"
   ]
  },
  {
   "cell_type": "code",
   "execution_count": 19,
   "metadata": {},
   "outputs": [
    {
     "output_type": "stream",
     "name": "stdout",
     "text": [
      "<class 'pandas.core.frame.DataFrame'>\nRangeIndex: 490 entries, 0 to 489\nData columns (total 5 columns):\n #   Column   Non-Null Count  Dtype \n---  ------   --------------  ----- \n 0   product  490 non-null    object\n 1   date     490 non-null    object\n 2   title    490 non-null    object\n 3   rating   490 non-null    object\n 4   text     490 non-null    object\ndtypes: object(5)\nmemory usage: 19.3+ KB\n"
     ]
    },
    {
     "output_type": "execute_result",
     "data": {
      "text/plain": [
       "                                                  product  \\\n",
       "count                                                 490   \n",
       "unique                                                  1   \n",
       "top     Furbo Dog Camera: Treat Tossing, Full HD WiFi ...   \n",
       "freq                                                  490   \n",
       "\n",
       "                                         date       title rating  \\\n",
       "count                                     490         490    490   \n",
       "unique                                    355         442      5   \n",
       "top     Reviewed in Canada on January 9, 2020  Five Stars    5.0   \n",
       "freq                                        7          15    347   \n",
       "\n",
       "                                                     text  \n",
       "count                                                 490  \n",
       "unique                                                490  \n",
       "top     The camera gives an incredibly clear and wide ...  \n",
       "freq                                                    1  "
      ],
      "text/html": "<div>\n<style scoped>\n    .dataframe tbody tr th:only-of-type {\n        vertical-align: middle;\n    }\n\n    .dataframe tbody tr th {\n        vertical-align: top;\n    }\n\n    .dataframe thead th {\n        text-align: right;\n    }\n</style>\n<table border=\"1\" class=\"dataframe\">\n  <thead>\n    <tr style=\"text-align: right;\">\n      <th></th>\n      <th>product</th>\n      <th>date</th>\n      <th>title</th>\n      <th>rating</th>\n      <th>text</th>\n    </tr>\n  </thead>\n  <tbody>\n    <tr>\n      <th>count</th>\n      <td>490</td>\n      <td>490</td>\n      <td>490</td>\n      <td>490</td>\n      <td>490</td>\n    </tr>\n    <tr>\n      <th>unique</th>\n      <td>1</td>\n      <td>355</td>\n      <td>442</td>\n      <td>5</td>\n      <td>490</td>\n    </tr>\n    <tr>\n      <th>top</th>\n      <td>Furbo Dog Camera: Treat Tossing, Full HD WiFi ...</td>\n      <td>Reviewed in Canada on January 9, 2020</td>\n      <td>Five Stars</td>\n      <td>5.0</td>\n      <td>The camera gives an incredibly clear and wide ...</td>\n    </tr>\n    <tr>\n      <th>freq</th>\n      <td>490</td>\n      <td>7</td>\n      <td>15</td>\n      <td>347</td>\n      <td>1</td>\n    </tr>\n  </tbody>\n</table>\n</div>"
     },
     "metadata": {},
     "execution_count": 19
    }
   ],
   "source": [
    "# Rename body (review text) to text, ensure it is of type string\n",
    "df = df.rename(columns = {'body': 'text'}).astype(str)\n",
    "\n",
    "# Get info from df\n",
    "df.info()\n",
    "\n",
    "# Describe the df\n",
    "df.describe()"
   ]
  },
  {
   "cell_type": "code",
   "execution_count": 13,
   "metadata": {},
   "outputs": [
    {
     "output_type": "execute_result",
     "data": {
      "text/plain": [
       "         null  percent\n",
       "product     0      0.0\n",
       "date        0      0.0\n",
       "title       0      0.0\n",
       "rating      0      0.0\n",
       "body        0      0.0"
      ],
      "text/html": "<div>\n<style scoped>\n    .dataframe tbody tr th:only-of-type {\n        vertical-align: middle;\n    }\n\n    .dataframe tbody tr th {\n        vertical-align: top;\n    }\n\n    .dataframe thead th {\n        text-align: right;\n    }\n</style>\n<table border=\"1\" class=\"dataframe\">\n  <thead>\n    <tr style=\"text-align: right;\">\n      <th></th>\n      <th>null</th>\n      <th>percent</th>\n    </tr>\n  </thead>\n  <tbody>\n    <tr>\n      <th>product</th>\n      <td>0</td>\n      <td>0.0</td>\n    </tr>\n    <tr>\n      <th>date</th>\n      <td>0</td>\n      <td>0.0</td>\n    </tr>\n    <tr>\n      <th>title</th>\n      <td>0</td>\n      <td>0.0</td>\n    </tr>\n    <tr>\n      <th>rating</th>\n      <td>0</td>\n      <td>0.0</td>\n    </tr>\n    <tr>\n      <th>body</th>\n      <td>0</td>\n      <td>0.0</td>\n    </tr>\n  </tbody>\n</table>\n</div>"
     },
     "metadata": {},
     "execution_count": 13
    }
   ],
   "source": [
    "# Exploring missing values\n",
    "null_values = df.isna().sum()\n",
    "null_values = pd.DataFrame(null_values,columns=['null'])\n",
    "sum_tot = len(df)\n",
    "null_values['percent'] = null_values['null']/sum_tot*100\n",
    "round(null_values,3).sort_values('percent',ascending=False)"
   ]
  },
  {
   "source": [
    "## Part 2: Feature Extraction (before text cleaning)\n",
    "* Count of Stopwords\n",
    "* Count of Punctuation\n",
    "* Count of Hashtag characters\n",
    "* Count of Numeric characters\n",
    "* Count of Emojis & Emoticons"
   ],
   "cell_type": "markdown",
   "metadata": {}
  },
  {
   "cell_type": "code",
   "execution_count": 14,
   "metadata": {},
   "outputs": [
    {
     "output_type": "stream",
     "name": "stderr",
     "text": [
      "[nltk_data] Downloading package stopwords to\n[nltk_data]     C:\\Users\\domen\\AppData\\Roaming\\nltk_data...\n[nltk_data]   Package stopwords is already up-to-date!\n[nltk_data] Downloading package wordnet to\n[nltk_data]     C:\\Users\\domen\\AppData\\Roaming\\nltk_data...\n[nltk_data]   Package wordnet is already up-to-date!\n[nltk_data] Downloading package punkt to\n[nltk_data]     C:\\Users\\domen\\AppData\\Roaming\\nltk_data...\n[nltk_data]   Package punkt is already up-to-date!\n[nltk_data] Downloading package averaged_perceptron_tagger to\n[nltk_data]     C:\\Users\\domen\\AppData\\Roaming\\nltk_data...\n[nltk_data]   Package averaged_perceptron_tagger is already up-to-\n[nltk_data]       date!\n"
     ]
    }
   ],
   "source": [
    "# Load libraries\n",
    "!pip install -q wordcloud\n",
    "import wordcloud\n",
    "from nltk.corpus import stopwords\n",
    "import nltk\n",
    "import string\n",
    "nltk.download('stopwords')\n",
    "nltk.download('wordnet')\n",
    "nltk.download('punkt')\n",
    "nltk.download('averaged_perceptron_tagger')\n",
    "stop = stopwords.words('english')"
   ]
  },
  {
   "cell_type": "code",
   "execution_count": 17,
   "metadata": {},
   "outputs": [
    {
     "output_type": "execute_result",
     "data": {
      "text/plain": [
       "                                                text  stopword_ct\n",
       "0  I bought the Furbo as a birthday gift for my b...          121\n",
       "1  Extremely disappointed. I recieved a Furbo tha...           25\n",
       "2  I’ve been using furbo for 2.5 weeks now. It ha...          358"
      ],
      "text/html": "<div>\n<style scoped>\n    .dataframe tbody tr th:only-of-type {\n        vertical-align: middle;\n    }\n\n    .dataframe tbody tr th {\n        vertical-align: top;\n    }\n\n    .dataframe thead th {\n        text-align: right;\n    }\n</style>\n<table border=\"1\" class=\"dataframe\">\n  <thead>\n    <tr style=\"text-align: right;\">\n      <th></th>\n      <th>text</th>\n      <th>stopword_ct</th>\n    </tr>\n  </thead>\n  <tbody>\n    <tr>\n      <th>0</th>\n      <td>I bought the Furbo as a birthday gift for my b...</td>\n      <td>121</td>\n    </tr>\n    <tr>\n      <th>1</th>\n      <td>Extremely disappointed. I recieved a Furbo tha...</td>\n      <td>25</td>\n    </tr>\n    <tr>\n      <th>2</th>\n      <td>I’ve been using furbo for 2.5 weeks now. It ha...</td>\n      <td>358</td>\n    </tr>\n  </tbody>\n</table>\n</div>"
     },
     "metadata": {},
     "execution_count": 17
    }
   ],
   "source": [
    "# Create stopword count feature\n",
    "df['stopword_ct'] = df['text'].apply(lambda x: len([x for x in x.split() if x in stop]))\n",
    "\n",
    "# See 3 rows\n",
    "df[['text','stopword_ct']].head(3)"
   ]
  },
  {
   "cell_type": "code",
   "execution_count": 22,
   "metadata": {},
   "outputs": [
    {
     "output_type": "execute_result",
     "data": {
      "text/plain": [
       "                                                text  punctuation_ct\n",
       "0  I bought the Furbo as a birthday gift for my b...              52\n",
       "1  Extremely disappointed. I recieved a Furbo tha...               6\n",
       "2  I’ve been using furbo for 2.5 weeks now. It ha...              62"
      ],
      "text/html": "<div>\n<style scoped>\n    .dataframe tbody tr th:only-of-type {\n        vertical-align: middle;\n    }\n\n    .dataframe tbody tr th {\n        vertical-align: top;\n    }\n\n    .dataframe thead th {\n        text-align: right;\n    }\n</style>\n<table border=\"1\" class=\"dataframe\">\n  <thead>\n    <tr style=\"text-align: right;\">\n      <th></th>\n      <th>text</th>\n      <th>punctuation_ct</th>\n    </tr>\n  </thead>\n  <tbody>\n    <tr>\n      <th>0</th>\n      <td>I bought the Furbo as a birthday gift for my b...</td>\n      <td>52</td>\n    </tr>\n    <tr>\n      <th>1</th>\n      <td>Extremely disappointed. I recieved a Furbo tha...</td>\n      <td>6</td>\n    </tr>\n    <tr>\n      <th>2</th>\n      <td>I’ve been using furbo for 2.5 weeks now. It ha...</td>\n      <td>62</td>\n    </tr>\n  </tbody>\n</table>\n</div>"
     },
     "metadata": {},
     "execution_count": 22
    }
   ],
   "source": [
    "# Create punctuation count feature\n",
    "def count_punct(text):\n",
    "    count = sum([1 for char in text if char in string.punctuation])\n",
    "    return count\n",
    "\n",
    "df['punctuation_ct'] = df['text'].apply(lambda x: count_punct(x))\n",
    "\n",
    "# See 3 rows\n",
    "df[['text', 'punctuation_ct']].head(3)"
   ]
  },
  {
   "cell_type": "code",
   "execution_count": 28,
   "metadata": {},
   "outputs": [
    {
     "output_type": "execute_result",
     "data": {
      "text/plain": [
       "                                                text  hastag_ct\n",
       "0  I bought the Furbo as a birthday gift for my b...          0\n",
       "1  Extremely disappointed. I recieved a Furbo tha...          0\n",
       "2  I’ve been using furbo for 2.5 weeks now. It ha...          0"
      ],
      "text/html": "<div>\n<style scoped>\n    .dataframe tbody tr th:only-of-type {\n        vertical-align: middle;\n    }\n\n    .dataframe tbody tr th {\n        vertical-align: top;\n    }\n\n    .dataframe thead th {\n        text-align: right;\n    }\n</style>\n<table border=\"1\" class=\"dataframe\">\n  <thead>\n    <tr style=\"text-align: right;\">\n      <th></th>\n      <th>text</th>\n      <th>hastag_ct</th>\n    </tr>\n  </thead>\n  <tbody>\n    <tr>\n      <th>0</th>\n      <td>I bought the Furbo as a birthday gift for my b...</td>\n      <td>0</td>\n    </tr>\n    <tr>\n      <th>1</th>\n      <td>Extremely disappointed. I recieved a Furbo tha...</td>\n      <td>0</td>\n    </tr>\n    <tr>\n      <th>2</th>\n      <td>I’ve been using furbo for 2.5 weeks now. It ha...</td>\n      <td>0</td>\n    </tr>\n  </tbody>\n</table>\n</div>"
     },
     "metadata": {},
     "execution_count": 28
    }
   ],
   "source": [
    "# Create hashtag count feature\n",
    "df['hastag_ct'] = df['text'].apply(lambda x: len([x for x in x.split() if x.startswith('#')]))\n",
    "\n",
    "# See 3 rows\n",
    "df[['text','hastag_ct']].head(3)\n",
    "\n",
    "# How many times where hashtag is not 0?\n",
    "# df.hastag_ct.loc[df.hastag_ct != 0].count()"
   ]
  },
  {
   "cell_type": "code",
   "execution_count": 29,
   "metadata": {},
   "outputs": [
    {
     "output_type": "execute_result",
     "data": {
      "text/plain": [
       "                                                text  numeric_ct\n",
       "0  I bought the Furbo as a birthday gift for my b...           1\n",
       "1  Extremely disappointed. I recieved a Furbo tha...           0\n",
       "2  I’ve been using furbo for 2.5 weeks now. It ha...           1"
      ],
      "text/html": "<div>\n<style scoped>\n    .dataframe tbody tr th:only-of-type {\n        vertical-align: middle;\n    }\n\n    .dataframe tbody tr th {\n        vertical-align: top;\n    }\n\n    .dataframe thead th {\n        text-align: right;\n    }\n</style>\n<table border=\"1\" class=\"dataframe\">\n  <thead>\n    <tr style=\"text-align: right;\">\n      <th></th>\n      <th>text</th>\n      <th>numeric_ct</th>\n    </tr>\n  </thead>\n  <tbody>\n    <tr>\n      <th>0</th>\n      <td>I bought the Furbo as a birthday gift for my b...</td>\n      <td>1</td>\n    </tr>\n    <tr>\n      <th>1</th>\n      <td>Extremely disappointed. I recieved a Furbo tha...</td>\n      <td>0</td>\n    </tr>\n    <tr>\n      <th>2</th>\n      <td>I’ve been using furbo for 2.5 weeks now. It ha...</td>\n      <td>1</td>\n    </tr>\n  </tbody>\n</table>\n</div>"
     },
     "metadata": {},
     "execution_count": 29
    }
   ],
   "source": [
    "# Create numeric count feature\n",
    "df['numeric_ct'] = df['text'].apply(lambda x: len([x for x in x.split() if x.isdigit()]))\n",
    "\n",
    "# See 3 rows\n",
    "df[['text','numeric_ct']].head(3)"
   ]
  },
  {
   "cell_type": "code",
   "execution_count": 43,
   "metadata": {},
   "outputs": [],
   "source": [
    "# Load libraries for emoji & regex\n",
    "import emoji\n",
    "import regex\n",
    "\n",
    "# Write a function to identify all the emojis, call it emoji_ct\n",
    "\n",
    "# See 3 rows\n",
    "# df[['text','emoji_ct']].head(3)\n",
    "\n"
   ]
  },
  {
   "cell_type": "code",
   "execution_count": null,
   "metadata": {},
   "outputs": [],
   "source": [
    "# Write a function to identify all the emoticons, call it emoticon_ct\n",
    "\n",
    "# See 3 rows\n",
    "# df[['text','emoticon_ct']].head(3)\n",
    "\n"
   ]
  },
  {
   "source": [
    "## Part 3: Data & Text Cleaning\n",
    "* Change to lower case\n",
    "* Remove punctuation, stopwords, URLs, html tags, emojis, emoticons\n",
    "* Spell correction\n",
    "* Explore & remove custom stopwords"
   ],
   "cell_type": "markdown",
   "metadata": {}
  },
  {
   "source": [
    "## Part 4: Feature Extraction (after text cleaning)\n",
    "* Word count\n",
    "* Character count\n",
    "* Avg/median word length\n",
    "* Create date/time variable\n",
    "* Create review country\n"
   ],
   "cell_type": "markdown",
   "metadata": {}
  },
  {
   "source": [
    "## Part 5: Save Data\n",
    "* Save cleaned data to CSV"
   ],
   "cell_type": "markdown",
   "metadata": {}
  },
  {
   "cell_type": "code",
   "execution_count": null,
   "metadata": {},
   "outputs": [],
   "source": [
    "# Function to find the polarity of each review\n",
    "def polarity(x):\n",
    "    pol = TextBlob(x).sentiment.polarity\n",
    "    df['polarity'] = x['text'].apply(pol) # depending on the size of your data, this step may take some time.\n",
    "    return df\n",
    "\n",
    "polarity()"
   ]
  }
 ]
}